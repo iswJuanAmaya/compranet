{
 "cells": [
  {
   "cell_type": "code",
   "execution_count": 1,
   "metadata": {},
   "outputs": [],
   "source": [
    "import pandas as pd"
   ]
  },
  {
   "cell_type": "code",
   "execution_count": 2,
   "metadata": {},
   "outputs": [],
   "source": [
    "import random\n",
    "import re\n",
    "import time\n",
    "from datetime import date, timedelta"
   ]
  },
  {
   "cell_type": "code",
   "execution_count": 56,
   "metadata": {},
   "outputs": [],
   "source": [
    "def normalizar(text: str) -> str:\n",
    "    \"\"\"retorna la cadena del parametro sin acentos, en minuscula \n",
    "       y quita espacios al principio o fin de la cadena \"\"\"\n",
    "       \n",
    "    a,b = 'áéíóúüÁÉÍÓÚÜ','aeiouuAEIOUU'\n",
    "    trans = str.maketrans(a,b)\n",
    "    try:\n",
    "        text_normalized = text.translate(trans).lower().strip()\n",
    "    except:\n",
    "        print(f\"error normalizando: {text}\")\n",
    "        text_normalized = \"Error\"\n",
    "    return text_normalized"
   ]
  },
  {
   "cell_type": "code",
   "execution_count": 3,
   "metadata": {},
   "outputs": [],
   "source": [
    "today_datetime = date.today()\n",
    "today = date.today().strftime(\"%d/%m/%Y\")"
   ]
  },
  {
   "cell_type": "code",
   "execution_count": 11,
   "metadata": {},
   "outputs": [],
   "source": [
    "df = pd.read_csv('vigentes_economicos.csv')"
   ]
  },
  {
   "cell_type": "code",
   "execution_count": null,
   "metadata": {},
   "outputs": [],
   "source": [
    "df.head(5)"
   ]
  },
  {
   "cell_type": "code",
   "execution_count": 8,
   "metadata": {},
   "outputs": [
    {
     "data": {
      "text/plain": [
       "Index(['Clave compendio', 'Codigo del expediente',\n",
       "       'Número del procedimiento o contratación', 'Partida específica',\n",
       "       'Clave CUCoP+', 'Descripción CUCoP+', 'Descripción detallada',\n",
       "       'Unidad de medida', 'Cantidad solicitada', 'Clave partidas',\n",
       "       'Dependencia', 'desc_det_anuncio', 'uc', 'fecha_presentacion',\n",
       "       'fecha_pub', 'is_alert_for_keywords', 'uri', 'scrapped_day'],\n",
       "      dtype='object')"
      ]
     },
     "execution_count": 8,
     "metadata": {},
     "output_type": "execute_result"
    }
   ],
   "source": [
    "df.keys()"
   ]
  },
  {
   "cell_type": "code",
   "execution_count": 32,
   "metadata": {},
   "outputs": [
    {
     "name": "stdout",
     "output_type": "stream",
     "text": [
      "Se encontraron 20 alertas en 21 oportunidades raspadas\n"
     ]
    }
   ],
   "source": [
    "cant_scrapped_ops = len(df['Número del procedimiento o contratación'][(df['scrapped_day'] == today)].unique())\n",
    "cant_scrapped_alerts = len(df['Número del procedimiento o contratación'][(df['scrapped_day'] == today) & (df['is_alert_for_keywords'] != \"False\") ].unique())\n",
    "print(f\"Se encontraron {cant_scrapped_alerts} alertas en {cant_scrapped_ops} oportunidades raspadas\")"
   ]
  },
  {
   "cell_type": "code",
   "execution_count": 14,
   "metadata": {},
   "outputs": [],
   "source": [
    "alerts_df = df[\n",
    "    (df['scrapped_day'] == today) & (df['is_alert_for_keywords'] != \"False\") \n",
    "    ]"
   ]
  },
  {
   "cell_type": "code",
   "execution_count": 114,
   "metadata": {},
   "outputs": [
    {
     "name": "stdout",
     "output_type": "stream",
     "text": [
      "6\n",
      "4\n",
      "9\n",
      "32\n",
      "3\n",
      "8\n",
      "50\n",
      "3\n",
      "1\n",
      "4\n",
      "10\n",
      "35\n",
      "1\n",
      "6\n",
      "12\n",
      "2\n",
      "4\n",
      "3\n",
      "50\n",
      "1\n"
     ]
    }
   ],
   "source": [
    "asd = []\n",
    "for group_name, df_group in alerts_df.groupby('Número del procedimiento o contratación'):\n",
    "    print(len(df_group))\n",
    "    dependencia = df_group['Dependencia'].iloc[0]\n",
    "    desc_det_an = df_group['desc_det_anuncio'].iloc[0]\n",
    "    unidad_comp = df_group['uc'].iloc[0]\n",
    "    fec_pres = df_group['fecha_presentacion'].iloc[0]\n",
    "    fec_pub = df_group['fecha_pub'].iloc[0]\n",
    "    df_group['uri'].iloc[0]\n",
    "    keyword_desc = []\n",
    "    for group_name, df_group in df_group.groupby('is_alert_for_keywords'):\n",
    "        i = 0\n",
    "        break_for_group =  False if len(df_group)<5 else True\n",
    "\n",
    "        for row_index, row in df_group.iterrows():\n",
    "            keywords_alert = row['is_alert_for_keywords']\n",
    "            keywords_finded = keywords_alert.split(\",\")\n",
    "\n",
    "            desc_detallada = row['Descripción detallada']\n",
    "            desc_n = normalizar(desc_detallada)\n",
    "            \n",
    "            for keyword in keywords_finded:\n",
    "                match = re.search(keyword, desc_n)\n",
    "                indice_start = match.start()-40\n",
    "                indice_start = indice_start if indice_start>=0 else 0\n",
    "                keyword_desc.append(keyword+\": \"+\n",
    "                    desc_detallada[indice_start:match.start()+55].strip().replace(\"\\n\",\"\")\n",
    "                    )\n",
    "                \n",
    "            if break_for_group:\n",
    "                break\n",
    "    \n",
    "    asd.append(keyword_desc)"
   ]
  },
  {
   "cell_type": "code",
   "execution_count": 101,
   "metadata": {},
   "outputs": [
    {
     "name": "stdout",
     "output_type": "stream",
     "text": [
      "- 8\n",
      "- 4\n",
      "- 14\n",
      "- 39\n",
      "- 3\n",
      "- 12\n",
      "- 10\n",
      "- 12\n",
      "- 6\n",
      "- 4\n",
      "- 11\n",
      "- 7\n",
      "- 1\n",
      "- 10\n",
      "- 14\n",
      "- 10\n",
      "- 4\n",
      "- 3\n",
      "- 18\n",
      "- 1\n"
     ]
    }
   ],
   "source": [
    "for lista in asd:\n",
    "    print(\"-\", len(lista))"
   ]
  },
  {
   "cell_type": "code",
   "execution_count": 108,
   "metadata": {},
   "outputs": [],
   "source": [
    "kw_added = []\n",
    "desc_not_added = []\n",
    "descriptions = []\n",
    "for e in asd[3]:\n",
    "    kw = e.split(\":\")[0]\n",
    "    if kw not in kw_added:\n",
    "        kw_added.append(kw)\n",
    "        descriptions.append(e)\n",
    "    else:\n",
    "        desc_not_added.append(e)\n"
   ]
  },
  {
   "cell_type": "code",
   "execution_count": 116,
   "metadata": {},
   "outputs": [
    {
     "data": {
      "text/plain": [
       "'alimentacion, alimenta, chip, electronic, ayuda, arillo, juguete, medio, vehiculo, magnetic'"
      ]
     },
     "execution_count": 116,
     "metadata": {},
     "output_type": "execute_result"
    }
   ],
   "source": [
    "\", \".join(kw_added)"
   ]
  },
  {
   "cell_type": "code",
   "execution_count": 112,
   "metadata": {},
   "outputs": [
    {
     "data": {
      "text/plain": [
       "['alimentacion: V CC DURACIÓN DE BATERÍA: HASTA 4 HORAS ALIMENTACIÓN: CORRIENTE ALTERNA VOLTAJE DE ENTRADA AC 1',\n",
       " 'alimenta: V CC DURACIÓN DE BATERÍA: HASTA 4 HORAS ALIMENTACIÓN: CORRIENTE ALTERNA VOLTAJE DE ENTRADA AC 1',\n",
       " 'chip: ELES 2.073.600 DOTS (1.920 X 1.080) X 3 CHIPS -ENTRADA DE SEÑAL RESOLUCIÓN DE PANTALLA MÁXIMA:',\n",
       " 'electronic: OR, NÚMERO, PÁGINA ARRIBA Y ABAJO, ZOOM ELECTRÓNICO, VOLUMEN, AYUDA, FUNCIONES DE MENÚ, ENTRADA',\n",
       " 'ayuda: IBA Y ABAJO, ZOOM ELECTRÓNICO, VOLUMEN, AYUDA, FUNCIONES DE MENÚ, ENTRADA, ESC Y PUNTERO DISTAN',\n",
       " 'arillo: BLOCK DE NOTAS ADHESIVAS, COLOR AMARILLO DE 4.7 CENTÍMETROS DE LARGO X 4.7 CENTÍMETROS DE',\n",
       " 'juguete: JUGUETE DIDÁCTICO LABERINTO DE CUENTAS DE 3 CAMINOS DE',\n",
       " 'medio: ABS DE ALTA CALIDAD, RESPETUOSO CON EL MEDIO AMBIENTE, SEGURO Y NO TÓXICO. MEDIDAS 20 DE LARGO',\n",
       " 'vehiculo: A BASE DE AGUA, NO TÓXICA. -8 FORMAS DE VEHÍCULOS, 4 CENTÍMETROS DE LARGO X 3 CENTÍMETROS DE AN',\n",
       " 'magnetic: A. -1 CAÑA DE PESCAR SIMULADA CON POSTE MAGNÉTICO. MEDIDAS DE 16 CENTÍMETROS DE LARGO, TOLERANC']"
      ]
     },
     "execution_count": 112,
     "metadata": {},
     "output_type": "execute_result"
    }
   ],
   "source": [
    "if len(descriptions) > 9:\n",
    "    for "
   ]
  },
  {
   "cell_type": "code",
   "execution_count": 110,
   "metadata": {},
   "outputs": [
    {
     "data": {
      "text/plain": [
       "['alimentacion: V CC DURACIÓN DE BATERÍA: HASTA 4 HORAS ALIMENTACIÓN: CORRIENTE ALTERNA VOLTAJE DE ENTRADA AC 1',\n",
       " 'alimenta: V CC DURACIÓN DE BATERÍA: HASTA 4 HORAS ALIMENTACIÓN: CORRIENTE ALTERNA VOLTAJE DE ENTRADA AC 1',\n",
       " 'alimentacion: V CC DURACIÓN DE BATERÍA: HASTA 4 HORAS ALIMENTACIÓN: CORRIENTE ALTERNA VOLTAJE DE ENTRADA AC 1',\n",
       " 'alimenta: V CC DURACIÓN DE BATERÍA: HASTA 4 HORAS ALIMENTACIÓN: CORRIENTE ALTERNA VOLTAJE DE ENTRADA AC 1',\n",
       " 'alimentacion: (41°F A 104°F) -VOLTAJE DE LA FUENTE DE ALIMENTACIÓN 100 - 240 V AC +/- 10 %, 50/60 HZ -CONSUMO',\n",
       " 'alimenta: (41°F A 104°F) -VOLTAJE DE LA FUENTE DE ALIMENTACIÓN 100 - 240 V AC +/- 10 %, 50/60 HZ -CONSUMO',\n",
       " 'alimentacion: (41°F A 104°F) -VOLTAJE DE LA FUENTE DE ALIMENTACIÓN 100 - 240 V AC +/- 10 %, 50/60 HZ -CONSUMO',\n",
       " 'alimenta: (41°F A 104°F) -VOLTAJE DE LA FUENTE DE ALIMENTACIÓN 100 - 240 V AC +/- 10 %, 50/60 HZ -CONSUMO',\n",
       " 'chip: ELES 2.073.600 DOTS (1.920 X 1.080) X 3 CHIPS -ENTRADA DE SEÑAL RESOLUCIÓN DE PANTALLA MÁXIMA:',\n",
       " 'electronic: OR, NÚMERO, PÁGINA ARRIBA Y ABAJO, ZOOM ELECTRÓNICO, VOLUMEN, AYUDA, FUNCIONES DE MENÚ, ENTRADA',\n",
       " 'ayuda: IBA Y ABAJO, ZOOM ELECTRÓNICO, VOLUMEN, AYUDA, FUNCIONES DE MENÚ, ENTRADA, ESC Y PUNTERO DISTAN',\n",
       " 'alimentacion: (41°F A 104°F) -VOLTAJE DE LA FUENTE DE ALIMENTACIÓN 100 - 240 V AC +/- 10 %, 50/60 HZ -CONSUMO',\n",
       " 'alimenta: (41°F A 104°F) -VOLTAJE DE LA FUENTE DE ALIMENTACIÓN 100 - 240 V AC +/- 10 %, 50/60 HZ -CONSUMO',\n",
       " 'chip: ELES 2.073.600 DOTS (1.920 X 1.080) X 3 CHIPS -ENTRADA DE SEÑAL RESOLUCIÓN DE PANTALLA MÁXIMA:',\n",
       " 'electronic: OR, NÚMERO, PÁGINA ARRIBA Y ABAJO, ZOOM ELECTRÓNICO, VOLUMEN, AYUDA, FUNCIONES DE MENÚ, ENTRADA',\n",
       " 'ayuda: IBA Y ABAJO, ZOOM ELECTRÓNICO, VOLUMEN, AYUDA, FUNCIONES DE MENÚ, ENTRADA, ESC Y PUNTERO DISTAN',\n",
       " 'juguete: JUGUETES DE DESARROLLO DE HABILIDADES (COLOR INDISTINTO',\n",
       " 'juguete: JUGUETES DE DESARROLLO DE HABILIDADES (COLOR INDISTINTO',\n",
       " 'medio: ABS DE ALTA CALIDAD, RESPETUOSO CON EL MEDIO AMBIENTE, SEGURO Y NO TÓXICO. MEDIDAS 20 DE LARGO',\n",
       " 'juguete: JUGUETES DE DESARROLLO DE HABILIDADES (COLOR INDISTINTO',\n",
       " 'medio: ABS DE ALTA CALIDAD, RESPETUOSO CON EL MEDIO AMBIENTE, SEGURO Y NO TÓXICO. MEDIDAS 20 DE LARGO',\n",
       " 'medio: RANCIA DE +/- 5 CENTÍMETROS. COLOR AZUL MEDIO. PRESENTACIÓN, PAQUETE CON 2 PIEZAS.',\n",
       " 'juguete: JUGUETE MONTESSORI PARA NIÑOS, 7 EN 1 JUGUETE EDUCATIVO',\n",
       " 'vehiculo: A BASE DE AGUA, NO TÓXICA. -8 FORMAS DE VEHÍCULOS, 4 CENTÍMETROS DE LARGO X 3 CENTÍMETROS DE AN',\n",
       " 'juguete: JUGUETE MONTESSORI PARA NIÑOS, 7 EN 1 JUGUETE EDUCATIVO',\n",
       " 'magnetic: A. -1 CAÑA DE PESCAR SIMULADA CON POSTE MAGNÉTICO. MEDIDAS DE 16 CENTÍMETROS DE LARGO, TOLERANC',\n",
       " 'vehiculo: A BASE DE AGUA, NO TÓXICA. -8 FORMAS DE VEHÍCULOS, 4 CENTÍMETROS DE LARGO X 3 CENTÍMETROS DE AN',\n",
       " 'juguete: JUGUETE MONTESSORI PARA NIÑOS, 7 EN 1 JUGUETE EDUCATIVO',\n",
       " 'magnetic: A. -1 CAÑA DE PESCAR SIMULADA CON POSTE MAGNÉTICO. MEDIDAS DE 16 CENTÍMETROS DE LARGO, TOLERANC']"
      ]
     },
     "execution_count": 110,
     "metadata": {},
     "output_type": "execute_result"
    }
   ],
   "source": [
    "desc_not_added"
   ]
  },
  {
   "cell_type": "code",
   "execution_count": 42,
   "metadata": {},
   "outputs": [
    {
     "name": "stdout",
     "output_type": "stream",
     "text": [
      "IA-50-GYR-050GYR057-N-154-2024 6\n",
      "alimentic,alimento 1\n",
      "alimento,cena 1\n",
      "arillo 4\n"
     ]
    }
   ],
   "source": [
    "for group_name, df_group in alerts_df.groupby('Número del procedimiento o contratación'):\n",
    "    print(group_name, len(df_group))\n",
    "    for row_index, row in df_group.iterrows():\n",
    "        dependencia = row['Dependencia']\n",
    "        desc_det_an = row['desc_det_anuncio']\n",
    "        unidad_comp = row['uc']\n",
    "        fec_pres = row['fecha_presentacion']\n",
    "        fec_pub = row['fecha_pub']\n",
    "        break\n",
    "\n",
    "\n",
    "    for group_name, df_group in df_group.groupby('is_alert_for_keywords'):\n",
    "        print(group_name, len(df_group))\n",
    "        i = 0\n",
    "        for row_index, row in df_group.iterrows():\n",
    "            if i == 0:\n",
    "                dependencia = row['Dependencia']\n",
    "                desc_det_an = row['desc_det_anuncio']\n",
    "                unidad_comp = row['uc']\n",
    "                fec_pres = row['fecha_presentacion']\n",
    "                fec_pub = row['fecha_pub']\n",
    "                keywords_alert = row['is_alert_for_keywords']\n",
    "                \n",
    "            print(\"\\n\")\n",
    "\n",
    "            i += 1\n",
    "    \n",
    "    break"
   ]
  },
  {
   "cell_type": "code",
   "execution_count": null,
   "metadata": {},
   "outputs": [],
   "source": [
    "keywords_finded = ['premium', 'alimentacion', 'alimenta', 'arillo', 'electronic']\n",
    "desc = \"\"\"ADQUISICIÓN DE KIT DE MATERIAL DIDÁCTICO (UNIDAD DIDÁCTICA) QUE DEBERÁN CONTENER LO SIGUIENTE. A) 1 PELOTA SENSORIAL • CIRCUNFERENCIA: \n",
    "            18 PULGADAS (TOLERANCIA +/- 2 PULGADAS). • COLOR: INDISTINTO. • MATERIAL: CAUCHO SINTÉTICO. • CON TEXTURAS DIFERENTES. B) \n",
    "            1 MAQUINA DE JUEGO DE MEMORIA ELECTRÓNICO CON SONIDOS • MEDIDAS: 26.7 CENTÍMETROS DE LARGO (TOLERANCIA +/- 2 CENTÍMETROS) \n",
    "            POR 26.7 CENTÍMETROS DE ANCHO (TOLERANCIA +/- 2 CENTÍMETROS) POR 4.1 CENTÍMETROS DE ALTURA (TOLERANCIA +/- 1 CENTÍMETRO). \n",
    "            • COLOR DE LAS LUCES: VERDE, ROJO, AZUL Y AMARILLO. • MATERIAL: PLÁSTICO ANTIDESLIZANTE, NO TOXICO. • FUENTE DE ALIMENTACIÓN: \n",
    "            ACONDICIONADO PARA 3 PILAS TIPO AA DE 1.5 VOLTIOS, MISMAS QUE DEBERÁN ESTAR INCLUIDAS. C) 10 TÍTERES DE PARA DEDOS • MATERIAL: \n",
    "            FRANELA. • TAMAÑO: 7 CENTÍMETROS DE LARGO POR 3 CENTÍMETROS DE ANCHO (TOLERANCIA +/- .5 CENTÍMETROS). • RELLENO: ALGODÓN. • \n",
    "            FIGURAS: ANIMALES VARIADOS. • COLORES: BRILLANTES Y VARIADOS. D) 1 CAJA DE CHANGUITOS. • CONTENIDO DE LA CAJA: 50 PIEZAS DE \n",
    "            CHANGUITOS. • MATERIAL: PLÁSTICO. • MEDIDA: 10 CENTÍMETROS DE ANCHO POR 7 CENTÍMETROS DE ALTO (TOLERANCIA +/- 1 CENTÍMETRO). • \n",
    "            COLORES: VARIADOS. • CAJA DE PLÁSTICO TRANSPARENTE. E) 2 PLAYERAS TIPO POLO PREMIUM • TEJIDO: PIQUE. • MATERIAL: 100 % ALGODÓN. • \n",
    "            COLOR: VINO PANTONE 7421 C. • 3 BOTONES DE PLÁSTICO COLOR BLANCO. • CORTE RECTO. • BORDADO AL FRENTE EN HILO COLOR BLANCO, \n",
    "            QUE DEBERÁ SER ENTREGADO AL PROVEEDOR EN LA FORMALIZACIÓN DEL CONTRATO, CONFORME AL ANEXO 3. • LAS TALLAS SERÁN CONFORME AL \n",
    "            ANEXO 3. F) 2 GORRAS DE GABARDINA • MATERIAL: GABARDINA 100 % ALGODÓN. • COLOR: VINO PANTONE 7421 C. • CANTIDAD DE GAJOS: 6. • \n",
    "            VISERA: CURVA. • CON OJILLOS BORDADOS. • BOTÓN FORRADO. • AJUSTE DE BROCHE METÁLICO CON CINTA DE AJUSTE. • TALLA: CHICA. • \n",
    "            BORDADO AL FRENTE EN HILO COLOR BLANCO, QUE DEBERÁ SER ENTREGADO AL PROVEEDOR EN LA FORMALIZACIÓN DEL CONTRATO, CONFORME AL ANEXO 3. G) \n",
    "            1 BOLSA ECOLÓGICA DE LONA REFORZADA • MEDIDAS: 50 CENTÍMETROS DE LARGO POR 40 CENTÍMETROS D\"\"\""
   ]
  },
  {
   "cell_type": "code",
   "execution_count": null,
   "metadata": {},
   "outputs": [],
   "source": [
    "desc_n = normalizar(desc)"
   ]
  },
  {
   "cell_type": "code",
   "execution_count": null,
   "metadata": {},
   "outputs": [],
   "source": [
    "for keyword in keywords_finded:\n",
    "    match = re.search(keyword, desc_n)\n",
    "    print(keyword+\": \"+\n",
    "        desc[match.start()-50:match.start()+55].strip().replace(\"\\n\",\"\")\n",
    "        )"
   ]
  },
  {
   "cell_type": "markdown",
   "metadata": {},
   "source": [
    "### alertas"
   ]
  },
  {
   "cell_type": "code",
   "execution_count": null,
   "metadata": {},
   "outputs": [],
   "source": [
    "descripciones = ['ACETATO PARA IMPRESORA DE TINTA TAMAÑO CARTA 100 ',\n",
    "'ACETATO PARA IMPRESORA ACETATO PARA IMPRESORA DE TINTA TAMAÑO CARTA C/50 HOJAS LOTE 2 ',\n",
    "'ANILLO DE PLASTICO PARA ENCUADERNAR ARILLO PARA ENGARGOLAR METALICO DE 1 1/4\" C/20 PZS LOTE 1 ',\n",
    "'BLOCKS BLOCK DE PAPEL DE NOTAS CON 400 HOJAS (MEMO TIP DE COLORES) 266 ',\n",
    "'BLOCKS BLOCK DE PAPEL POLIZA DE CHEQUE MEDIA CARTA CON CARBON 25 ',\n",
    "'BLOCKS BLOCK PAGARE C/50 HOJAS 1 ',\n",
    "'BOLIGRAFOS BOLIGRAFO CRISTAL PUNTO FINO AZUL 26 ',\n",
    "'BOLIGRAFOS BOLIGRAFO PIN POINT PUNTO MEDIANO AZUL 36 ',\n",
    "'BOLIGRAFOS BOLIGRAFO PUNTO FINO NEGRO 594 ',\n",
    "'1BOLIGRAFOS BOLIGRAFO PUNTO FINO ROJO 88 ',\n",
    "'1BORRADOR PARA PIZARRON BORRADOR PARA PIZARRON 19 ',\n",
    "'1LAPIZ BORRADOR BORRADOR TIPO GOMA MOD. BR 40 130 ',\n",
    "'1BROCHES PARA FOLDER BROCHE PARA ARCHIVAR NO. 8 (BACCO) CON 50 S 93 ',\n",
    "'1CAJAS DE CARTON (CORRUGADO, LISO Y PLEGADIZO) CAJA PARA ARCHIVO MUERTO TAMAÑO CARTA 443 ',\n",
    "'1CAJAS DE CARTON (CORRUGADO, LISO Y PLEGADIZO) CAJA PARA ARCHIVO MUERTO TAMAÑO OFICIO 54 ',\n",
    "'1SUMADORA CALCULADORA DE 12 DIGITOS 6 ',\n",
    "'1CARPETA ESCRITORIO CARPETA BLANCA TAMAÑO CARTA CON VENTANA DE 1\" 57 ',\n",
    "'1CARPETA ESCRITORIO CARPETA BLANCA TAMAÑO CARTA CON VENTANA DE 2\" 103 ',\n",
    "'1CARPETA ESCRITORIO CARPETA BLANCA TAMAÑO CARTA CON VENTANA DE 3\" 44 ',\n",
    "'2CARPETA ESCRITORIO CARPETA BLANCA TAMAÑO CARTA CON VENTANA DE 4\" 32 ',\n",
    "'2CARPETAS PARA ARCHIVO CARPETA RECOPILADORA TAMAÑO CARTA 198 ',\n",
    "'2CERA CUENTA FACIL CERA CUENTA FACIL DE 14 GRS. 6 ',\n",
    "'2CINTA ADHESIVA CANELA CINTA ADHESIVA CANELA DE 48 MM. X 50 MTS 128 ',\n",
    "'2CINTA ADHESIVA CINTA ADHESIVA DIUREX DE 24 MM X 65 MTS. 183 ',\n",
    "'2CINTA ADHESIVA CINTA ADHESIVA MAGICA DE 18 MMX50 MTS (INVISIBLE) 17 ',\n",
    "'2CINTA ADHESIVA CINTA ADHESIVA SCOTCH 665 DOBLE CARA 12MM X 33M 28 ',\n",
    "'2CINTA ADHESIVA MASKING TAPE CINTA MASKING TAPE DE 24 MM DE ANCHO (1\") 138 ',\n",
    "'2CINTA ADHESIVA CINTA PARA EMPAQUE TRANSPARENTE DE 48 MM X 150 M 4 ',\n",
    "'2CINTAS PARA MAQUINAS DE OFICINA CINTA PARA SUMADORA OLIVETTI OFFICE CA 1100 2 ',\n",
    "'3CLIPS CLIP BLINDER DE 1\" 1/4\" CON 12 S 51 ',\n",
    "'3CLIPS CLIP ESTANDAR NO. 1 CON 100 S. LOTE 156 ',\n",
    "'3CLIPS CLIP ESTANDAR NO. 2 CON 100 S. LOTE 149 ',\n",
    "'3CLIPS TIPO MARIPOSA CLIP MARIPOSA NO. 1 CON 12 S. LOTE 33 ',\n",
    "'3CLIPS TIPO MARIPOSA CLIP MARIPOSA NO. 2 CON 50 S LOTE 34 ',\n",
    "'3COJIN SELLO COJIN PARA SELLO DEL NO. 2 12 ',\n",
    "'3CINTA CORRECTORA CORRECTOR EN CINTA PRITT 59 ',\n",
    "'3CORRECTOR LIQUIDO CORRECTOR LIQUIDO TIPO BOLIGRAFO DE 8 ML. 102 ',\n",
    "'3CUTER CUTTER GRANDE PLASTICO 91 ',\n",
    "'3DEDAL HULE DEDAL DE PLASTICO MEDIANO PARA CONTAR. 124 ',\n",
    "'4DESENGRAPADORA DESENGRAPADOR 46 ',\n",
    "'4DESPACHADOR INTEGRADOR CINTA ADHESIVA DISPENSADOR DE DIUREX METÁLICO P/1\" (24 MM) ANCHO 2 ',\n",
    "'4ENGRAPADORA ENGRAPADORA MOD. P-404 12 ',\n",
    "'4ENGRAPADORA ENGRAPADORA TRABAJO PESADO MOD B8 (S-50) 2 ',\n",
    "'4PAPEL ETIQUETAS ENGOMADO ETIQUETA ADHERIBLE PARA C.D. CON 25 HOJAS (50 S) LOTE 8 ',\n",
    "'4PAPEL ETIQUETAS ENGOMADO FOLDER COLGANTE PARA ARCHIVERO TAMAÑO OFICIO C/25 PZS. LOTE 3 ',\n",
    "'4FOLDERS FOLDER CON BROCHE TAMAÑO CARTA C/10 PZS. LOTE 6 ',\n",
    "'4FOLDERS FOLDER DE CARTONCILLO TAMAÑO CARTA C/100 S LOTE 116 ',\n",
    "'4FOLDERS FOLDER DE CARTONCILLO TAMAÑO OFICIO C/100 S LOTE 4 ',\n",
    "'4FOLDERS FOLIADOR DE 6 DIGITOS 8 ',\n",
    "'5GRAPAS GRAPA 3/8\" SF P-35550 HEAVY DUTY C/1000 PZS']"
   ]
  },
  {
   "cell_type": "code",
   "execution_count": null,
   "metadata": {},
   "outputs": [],
   "source": [
    "keywords = ['vales', 'despensa', 'gasolina', 'combustible', 'tarjeta', 'monedero', 'vestimenta', 'viatico', 'regalo', 'restaurante', 'ropa', \n",
    "            'viaje', 'mantenimiento', 'vehiculo', 'mtto', 'preventivo', 'correctivo', 'premium', 'magna', 'fin de año', 'abarrote', 'aguinaldo', \n",
    "            'alimentacion', 'alimenta', 'alimentic', 'alimento', 'arillo', 'bono', 'canjeable', 'cena', 'combustible', 'comedor', 'comida', \n",
    "            'cupon', 'desayun', 'despensa', 'diesel', 'dispersion', 'enser', 'fin año', 'gasolina', 'juguete', 'lubrica', 'medio', 'pago', \n",
    "            'monedero', 'premio', 'prevision', 'recompensa', 'restaurant', 'ropa', 'subsistencia', 'tarjeta', 'chip', 'electronic', 'inteligente', \n",
    "            'magnetic', 'uniforme', 'utiles escolar', 'vale', 'vestido', 'vestimenta', 'vestir', 'vestuari', 'viatico', 'viveres', 'apoyo', \n",
    "            'asistencia', 'ayuda', 'gasto', 'prestacion', 'programa', 'laboral', 'social', 'trabajo', 'incentivo', 'aditivo', 'diesel', \n",
    "            'apoyos economicos', 'apoyo monetarios', 'fintech', 'viaticos', 'control de gastos', 'caja chica', 'atm', 'retiro en efectivo', \n",
    "            'atm', 'cajero automatico', 'tarjetas', 'sello de caja']\n",
    "claves = ['15901', '26101', '26102', '26103', '15401', '21101', '37501', '37502', '37503', \n",
    "              '37504', '37601', '37602', '37701', '37801', '37802', '37901', '38101', '38102', \n",
    "              '38103', '38201', '38301', '38401', '38501', '44101', '44102', '44103', '44104', \n",
    "              '34101']"
   ]
  },
  {
   "cell_type": "code",
   "execution_count": null,
   "metadata": {},
   "outputs": [],
   "source": [
    "claves_list = '21101,21201,21401'"
   ]
  },
  {
   "cell_type": "code",
   "execution_count": null,
   "metadata": {},
   "outputs": [],
   "source": [
    "[i for i in claves_list.split(\",\") if i in claves]"
   ]
  },
  {
   "cell_type": "code",
   "execution_count": null,
   "metadata": {},
   "outputs": [],
   "source": [
    "for description in descripciones:\n",
    "    desc = normalizar(description)\n",
    "    keywords_finded = [w for w in keywords if w in desc]\n",
    "    if keywords_finded:\n",
    "        print(keywords_finded)"
   ]
  },
  {
   "cell_type": "code",
   "execution_count": null,
   "metadata": {},
   "outputs": [],
   "source": [
    "df =  pd.read_csv('precios.csv')"
   ]
  },
  {
   "cell_type": "code",
   "execution_count": null,
   "metadata": {},
   "outputs": [],
   "source": [
    "len(df)"
   ]
  },
  {
   "cell_type": "code",
   "execution_count": null,
   "metadata": {},
   "outputs": [],
   "source": [
    "procedimientos_with_error = df['Número del procedimiento o contratación'][df['Dependencia'].str.startswith(\"Error\")].unique()\n",
    "len(procedimientos_with_error)"
   ]
  },
  {
   "cell_type": "code",
   "execution_count": null,
   "metadata": {},
   "outputs": [],
   "source": [
    "len(df['Dependencia'][df['Dependencia'].str.startswith(\"Error\")])"
   ]
  },
  {
   "cell_type": "code",
   "execution_count": null,
   "metadata": {},
   "outputs": [],
   "source": [
    "len(df[df['Número del procedimiento o contratación'].isin(procedimientos_with_error)])"
   ]
  },
  {
   "cell_type": "code",
   "execution_count": null,
   "metadata": {},
   "outputs": [],
   "source": [
    "new_df = df[~df['Número del procedimiento o contratación'].isin(procedimientos_with_error)].copy()"
   ]
  },
  {
   "cell_type": "code",
   "execution_count": null,
   "metadata": {},
   "outputs": [],
   "source": [
    "cant_eliminada = len(df) - len(new_df)\n",
    "print(f\"Se eliminaron {cant_eliminada} registros con error\")"
   ]
  },
  {
   "cell_type": "code",
   "execution_count": null,
   "metadata": {},
   "outputs": [],
   "source": [
    "new_df['total cantidad minima'] = ''"
   ]
  },
  {
   "cell_type": "code",
   "execution_count": null,
   "metadata": {},
   "outputs": [],
   "source": [
    "new_df.to_csv('precios.csv', index=False,  encoding='utf-8')"
   ]
  },
  {
   "cell_type": "code",
   "execution_count": null,
   "metadata": {},
   "outputs": [],
   "source": [
    "df_c = pd.read_csv('concluidos.csv')"
   ]
  },
  {
   "cell_type": "code",
   "execution_count": null,
   "metadata": {},
   "outputs": [],
   "source": [
    "new_df_c = df_c[~df_c['num_proc'].isin(procedimientos_with_error)]"
   ]
  },
  {
   "cell_type": "code",
   "execution_count": null,
   "metadata": {},
   "outputs": [],
   "source": [
    "\n",
    "cant_eliminada = len(df) - len(new_df)\n",
    "cant_eliminada_conc = len(df_c) - len(new_df_c)\n",
    "print(f\"Se eliminaron {cant_eliminada} registros con error de precios y {cant_eliminada_conc} de concluidos\")"
   ]
  },
  {
   "cell_type": "code",
   "execution_count": null,
   "metadata": {},
   "outputs": [],
   "source": [
    "#T1\n",
    "Error::: Descripción detallada, Unidad de medida,Precio unitario sin impuestos,Monto de la Oferta,\n",
    "IVA,Otros impuestos,Monto total de la oferta\n",
    "#t2\n",
    "Error::: Descripción detallada, Unidad de medida,Cantidad mínima,Cantidad máxima,3\n",
    "Precio unitario sin impuestos,Monto total cantidad mínima,Monto total cantidad máxima\n",
    "\n",
    "\n",
    "#Original\n",
    "Descripción detallada, Unidad de medida, Cantidad solicitada, Precio unitario sin impuestos, Subtotal, IVA,Otros impuestos, Total"
   ]
  },
  {
   "cell_type": "code",
   "execution_count": null,
   "metadata": {},
   "outputs": [],
   "source": [
    "desc_det 0, prec_unit_sin_impuestos 3, subtotal 4, total 7"
   ]
  },
  {
   "cell_type": "code",
   "execution_count": null,
   "metadata": {},
   "outputs": [],
   "source": [
    "desc_det = 0\n",
    "prec_unit_sin_impuestos = 3\n",
    "subtotal = 4\n",
    "total = 7"
   ]
  },
  {
   "cell_type": "code",
   "execution_count": null,
   "metadata": {},
   "outputs": [],
   "source": [
    "df.shape"
   ]
  },
  {
   "cell_type": "code",
   "execution_count": null,
   "metadata": {},
   "outputs": [],
   "source": [
    "procedimientos_guardados = pd.read_csv('concluidos.csv', usecols = ['num_proc'])"
   ]
  },
  {
   "cell_type": "code",
   "execution_count": null,
   "metadata": {},
   "outputs": [],
   "source": [
    "if procedimientos_guardados['num_proc'].str.contains('').any():\n",
    "            print(\"ya está en la bdd\")"
   ]
  },
  {
   "cell_type": "code",
   "execution_count": null,
   "metadata": {},
   "outputs": [],
   "source": []
  },
  {
   "cell_type": "code",
   "execution_count": null,
   "metadata": {},
   "outputs": [],
   "source": [
    "df = pd.read_excel('./Claves de partida.xlsx', sheet_name='Hoja1', header=None)"
   ]
  },
  {
   "cell_type": "code",
   "execution_count": null,
   "metadata": {},
   "outputs": [],
   "source": [
    "claves = df[5].unique()"
   ]
  },
  {
   "cell_type": "code",
   "execution_count": null,
   "metadata": {},
   "outputs": [],
   "source": [
    "claves = ['15901', '26101', '26102', '26103', '15401', '21101', '37501', '37502', '37503', \n",
    "              '37504', '37601', '37602', '37701', '37801', '37802', '37901', '38101', '38102', \n",
    "              '38103', '38201', '38301', '38401', '38501', '44101', '44102', '44103', '44104', \n",
    "              '34101']"
   ]
  },
  {
   "cell_type": "code",
   "execution_count": null,
   "metadata": {},
   "outputs": [],
   "source": [
    "print(random.choice(claves))"
   ]
  },
  {
   "cell_type": "code",
   "execution_count": null,
   "metadata": {},
   "outputs": [],
   "source": [
    "from selenium import webdriver\n",
    "from selenium.webdriver.common.by import By\n",
    "from selenium.webdriver.common.action_chains import ActionChains\n",
    "from selenium.webdriver.chrome.service import Service\n",
    "from webdriver_manager.chrome import ChromeDriverManager\n",
    "from selenium.common.exceptions import TimeoutException, ElementClickInterceptedException\n",
    "from selenium.webdriver.support import expected_conditions as EC\n",
    "from selenium.webdriver.support.ui import WebDriverWait\n",
    "from datetime import date, datetime"
   ]
  },
  {
   "cell_type": "code",
   "execution_count": null,
   "metadata": {},
   "outputs": [],
   "source": [
    "#Se metio un error debido a la deshabilitación de cookies de 3ros en chrome.\n",
    "executable_path = ChromeDriverManager().install()\n",
    "executable_path = executable_path.replace(\"THIRD_PARTY_NOTICES.chromedriver\", \"chromedriver.exe\")\n",
    "\n",
    "#Dispara chrome\n",
    "driver = webdriver.Chrome(\n",
    "            service=Service(executable_path=executable_path),\n",
    "        )\n",
    "print(\"driver correctamente inicializado.\")"
   ]
  },
  {
   "cell_type": "code",
   "execution_count": null,
   "metadata": {},
   "outputs": [],
   "source": [
    "driver.get('https://upcp-compranet.hacienda.gob.mx/sitiopublico/#/sitiopublico/detalle/0a025e8c44364c3fb9fdb6032ee160d3/procedimiento')"
   ]
  },
  {
   "cell_type": "code",
   "execution_count": null,
   "metadata": {},
   "outputs": [],
   "source": [
    "xp = '//*[contains(text(),\"DATOS RELEVANTES DEL CONTRATO\")]/ancestor::ul/following-sibling::div//thead/tr/th'\n",
    "cabeceras = driver.find_elements(By.XPATH, xp )    "
   ]
  },
  {
   "cell_type": "code",
   "execution_count": null,
   "metadata": {},
   "outputs": [],
   "source": [
    "for cabecera in cabeceras:\n",
    "    print(cabecera.text)"
   ]
  },
  {
   "cell_type": "code",
   "execution_count": null,
   "metadata": {},
   "outputs": [],
   "source": [
    "if cabeceras[0].text == 'Descripción detallada' and cabeceras[3].text == 'Precio unitario sin impuestos' and\\\n",
    "cabeceras[4].text == 'Subtotal' and cabeceras[7].text == 'Total':\n",
    "    ind_desc = 0\n",
    "    ind_prec = 3\n",
    "    ind_subt = 4\n",
    "    ind_tota = 7\n",
    "elif cabeceras[0].text == 'Descripción detallada' and cabeceras[2].text == 'Precio unitario sin impuestos' and\\\n",
    "cabeceras[3].text == 'Monto de la Oferta' and cabeceras[6].text == 'Monto total de la oferta':\n",
    "    ind_desc = 0\n",
    "    ind_prec = 2\n",
    "    ind_subt = 3\n",
    "    ind_tota = 6\n",
    "elif cabeceras[0].text == 'Descripción detallada' and cabeceras[4].text == 'Precio unitario sin impuestos' and\\\n",
    "cabeceras[5].text == 'Monto total cantidad mínima' and cabeceras[6].text == 'Monto total de la oferta':\n",
    "    ind_desc = 0\n",
    "    ind_prec = 4\n",
    "    ind_cant_minima = 5\n",
    "    ind_tota = 6"
   ]
  },
  {
   "cell_type": "code",
   "execution_count": null,
   "metadata": {},
   "outputs": [],
   "source": [
    "if juan:\n",
    "    pass"
   ]
  },
  {
   "cell_type": "code",
   "execution_count": null,
   "metadata": {},
   "outputs": [],
   "source": [
    "xp = '//*[contains(text(),\"Código de contrato: \")]/parent::label/following-sibling::p-table//div[contains(@class,\"unfrozen\")]//thead/tr/th'\n",
    "cabeceras = driver.find_elements(By.XPATH, xp)"
   ]
  },
  {
   "cell_type": "code",
   "execution_count": null,
   "metadata": {},
   "outputs": [],
   "source": [
    "driver.quit()"
   ]
  },
  {
   "cell_type": "code",
   "execution_count": null,
   "metadata": {},
   "outputs": [],
   "source": []
  },
  {
   "cell_type": "code",
   "execution_count": null,
   "metadata": {},
   "outputs": [],
   "source": [
    "#Esto debido a que a veces economicos no cargaba, y aveces trae un layout distinto\n",
    "xp_1 = '//th[text()=\"Descripción CUCoP+\"]/ancestor::div[contains(@class,\"header\")]/following-sibling::div/table//tr'\n",
    "xp_2 = '//th[text()=\"Descripción CUCoP+\"]/ancestor::thead/following-sibling::tbody/tr'\n",
    "xp_economicos = xp_1\n",
    "economicos = driver.find_elements(By.XPATH, xp_1)\n",
    "iterations = 0\n",
    "if len(economicos)<1:\n",
    "    print('  No cargaron economicos, se esperará')\n",
    "    while True:\n",
    "        economicos = driver.find_elements(By.XPATH, xp_2)\n",
    "        if len(economicos)>0:\n",
    "            xp_economicos = xp_2\n",
    "            print(f\"   economicos tipo 2\")\n",
    "            break\n",
    "\n",
    "        economicos = driver.find_elements(By.XPATH, xp_1)\n",
    "        if len(economicos)>0:\n",
    "            xp_economicos = xp_1\n",
    "            break\n",
    "        \n",
    "        iterations += 1\n",
    "        if iterations>10:\n",
    "            print('   No cargaron.')\n",
    "            break"
   ]
  },
  {
   "cell_type": "code",
   "execution_count": null,
   "metadata": {},
   "outputs": [],
   "source": [
    "economicos_list = []\n",
    "economic_ids = []\n",
    "#Itera páginas\n",
    "for i in range(1, 11):\n",
    "    print(f\"  Obteniendo economicos pag: {i}\")\n",
    "    economicos = driver.find_elements(By.XPATH, xp_economicos)\n",
    "    numero = economicos[0].text.split(\" \",1)[0]\n",
    "    #Itera filas de economicos\n",
    "    for row_economic in economicos:\n",
    "        col = row_economic.find_elements(By.XPATH,\"./td\")\n",
    "        _id = col[0].text\n",
    "        if _id in economic_ids:\n",
    "            print(f\"economico {_id} está repetido por alguna extraña razón\")\n",
    "        partida_esp = col[1].text\n",
    "        clave_cucop = col[2].text\n",
    "        desc_cucop = col[3].text\n",
    "        desc_det = col[4].text\n",
    "        unidades_medida = col[5].text\n",
    "        #Esta columna algunas pocas veces no viene\n",
    "        cantidad_solicitada = col[6].text if len(col)>6 else \"\"\n",
    "        #Busca un patron de 3 o 4 digitos, punto, 3 o 4 digitos, punto,3 o 4 digitos, y desues otros 2 digitos opcionales\n",
    "        claves_compendio = re.findall(r\"\\d{3,4}.{1}\\d{3,4}.{1}\\d{3,4}.?\\d{0,2}\", desc_cucop)#CUCOP\n",
    "        clave_compendio = claves_compendio[0].strip().replace(\" \",\".\") if len(claves_compendio)>0 else \"\"\n",
    "\n",
    "        economicos_list.append({\n",
    "            \"Clave compendio\":clave_compendio, \"Codigo del expediente\":'cod_exp', \"Número del procedimiento o contratación\":'num_proc',\n",
    "            \"Partida específica\":partida_esp, \"Clave CUCoP+\":clave_cucop, \"Descripción CUCoP+\": desc_cucop, \n",
    "            \"Descripción detallada\":desc_det, \"Unidad de medida\":unidades_medida, \"Cantidad solicitada\":cantidad_solicitada,\n",
    "            \"uri\":'uri', \"scrapped_day\":'today'\n",
    "        })\n",
    "        economic_ids.append(_id)\n",
    "\n",
    "    next_page_btn = driver.find_element(By.XPATH,'//span[text()=\"ECONÓMICOS\"]/ancestor::p-tabview//button[contains(@class,\"p-paginator-next\")]')\n",
    "    if \"p-disabled\" in next_page_btn.get_attribute(\"class\"):\n",
    "        print(\"  no hay más páginas disponibles\")\n",
    "        break\n",
    "\n",
    "    for i in range(0, 10):\n",
    "        #Revisa si hay más paginas disponibles\n",
    "        next_page_btn = driver.find_element(By.XPATH,'//span[text()=\"ECONÓMICOS\"]/ancestor::p-tabview//button[contains(@class,\"p-paginator-next\")]')\n",
    "        if \"p-disabled\" in next_page_btn.get_attribute(\"class\"):\n",
    "            print(\"  no hay más páginas disponibles\")\n",
    "            break\n",
    "\n",
    "        #Da click en next page\n",
    "        ActionChains(driver).scroll_to_element(next_page_btn)\\\n",
    "            .pause(1).click(next_page_btn).perform()\n",
    "        \n",
    "        time.sleep(5)\n",
    "\n",
    "        #Espera nuevos economicos por un máximo de 60 segundos \n",
    "        t_end = time.time() + 60\n",
    "        numero_nuevo = driver.find_elements(By.XPATH, xp_economicos)[0].text.split(\" \",1)[0]\n",
    "        while time.time() < t_end and numero == numero_nuevo:\n",
    "            try:\n",
    "                numero_nuevo = driver.find_elements(By.XPATH, xp_economicos)[0].text.split(\" \",1)[0]\n",
    "            except:\n",
    "                pass\n",
    "        \n",
    "        #Sí aparecieron nuevos economicos los recolecta...\n",
    "        if int(numero_nuevo) > int(numero):\n",
    "            break\n",
    "        else:# sí no aparecieron nuevos economicos en un minuto busca la siguiente página.\n",
    "            print(\"  no aparecieron nuevos economicos en un minuto\")\n",
    "            "
   ]
  },
  {
   "cell_type": "code",
   "execution_count": null,
   "metadata": {},
   "outputs": [],
   "source": [
    "from colorama import Fore"
   ]
  },
  {
   "cell_type": "code",
   "execution_count": null,
   "metadata": {},
   "outputs": [],
   "source": [
    "print(Fore.RED+ 'i'+Fore.RESET)\n",
    "print('i')\n",
    "print('i')\n",
    "print('i')\n",
    "print('i')\n",
    "print(Fore.YELLOW+ 'i')\n",
    "print('i')\n",
    "print('i')"
   ]
  },
  {
   "cell_type": "code",
   "execution_count": null,
   "metadata": {},
   "outputs": [],
   "source": [
    "for i in range (0, 15):\n",
    "    if i>10:\n",
    "        print(Fore.RESET, i)\n",
    "    else:\n",
    "        print(Fore.RED, i)"
   ]
  },
  {
   "cell_type": "code",
   "execution_count": null,
   "metadata": {},
   "outputs": [],
   "source": [
    "len(economicos_list)"
   ]
  },
  {
   "cell_type": "code",
   "execution_count": null,
   "metadata": {},
   "outputs": [],
   "source": [
    "driver.quit()"
   ]
  }
 ],
 "metadata": {
  "kernelspec": {
   "display_name": "venv",
   "language": "python",
   "name": "python3"
  },
  "language_info": {
   "codemirror_mode": {
    "name": "ipython",
    "version": 3
   },
   "file_extension": ".py",
   "mimetype": "text/x-python",
   "name": "python",
   "nbconvert_exporter": "python",
   "pygments_lexer": "ipython3",
   "version": "3.12.3"
  }
 },
 "nbformat": 4,
 "nbformat_minor": 2
}
