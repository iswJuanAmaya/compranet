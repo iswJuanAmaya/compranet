{
 "cells": [
  {
   "cell_type": "code",
   "execution_count": 1,
   "metadata": {},
   "outputs": [],
   "source": [
    "import pandas as pd"
   ]
  },
  {
   "cell_type": "code",
   "execution_count": null,
   "metadata": {},
   "outputs": [],
   "source": [
    "import random\n",
    "import re\n",
    "import time"
   ]
  },
  {
   "cell_type": "code",
   "execution_count": 6,
   "metadata": {},
   "outputs": [],
   "source": [
    "df =  pd.read_csv('precios.csv')"
   ]
  },
  {
   "cell_type": "code",
   "execution_count": 7,
   "metadata": {},
   "outputs": [
    {
     "data": {
      "text/plain": [
       "1913"
      ]
     },
     "execution_count": 7,
     "metadata": {},
     "output_type": "execute_result"
    }
   ],
   "source": [
    "len(df)"
   ]
  },
  {
   "cell_type": "code",
   "execution_count": 10,
   "metadata": {},
   "outputs": [
    {
     "data": {
      "text/plain": [
       "38"
      ]
     },
     "execution_count": 10,
     "metadata": {},
     "output_type": "execute_result"
    }
   ],
   "source": [
    "procedimientos_with_error = df['Número del procedimiento o contratación'][df['Dependencia'].str.startswith(\"Error\")].unique()\n",
    "len(procedimientos_with_error)"
   ]
  },
  {
   "cell_type": "code",
   "execution_count": 9,
   "metadata": {},
   "outputs": [
    {
     "data": {
      "text/plain": [
       "603"
      ]
     },
     "execution_count": 9,
     "metadata": {},
     "output_type": "execute_result"
    }
   ],
   "source": [
    "len(df['Dependencia'][df['Dependencia'].str.startswith(\"Error\")])"
   ]
  },
  {
   "cell_type": "code",
   "execution_count": 19,
   "metadata": {},
   "outputs": [
    {
     "data": {
      "text/plain": [
       "603"
      ]
     },
     "execution_count": 19,
     "metadata": {},
     "output_type": "execute_result"
    }
   ],
   "source": [
    "len(df[df['Número del procedimiento o contratación'].isin(procedimientos_with_error)])"
   ]
  },
  {
   "cell_type": "code",
   "execution_count": 20,
   "metadata": {},
   "outputs": [],
   "source": [
    "new_df = df[~df['Número del procedimiento o contratación'].isin(procedimientos_with_error)].copy()"
   ]
  },
  {
   "cell_type": "code",
   "execution_count": 21,
   "metadata": {},
   "outputs": [
    {
     "name": "stdout",
     "output_type": "stream",
     "text": [
      "Se eliminaron 603 registros con error\n"
     ]
    }
   ],
   "source": [
    "cant_eliminada = len(df) - len(new_df)\n",
    "print(f\"Se eliminaron {cant_eliminada} registros con error\")"
   ]
  },
  {
   "cell_type": "code",
   "execution_count": 22,
   "metadata": {},
   "outputs": [],
   "source": [
    "new_df['total cantidad minima'] = ''"
   ]
  },
  {
   "cell_type": "code",
   "execution_count": 29,
   "metadata": {},
   "outputs": [],
   "source": [
    "new_df.to_csv('precios.csv', index=False,  encoding='utf-8')"
   ]
  },
  {
   "cell_type": "code",
   "execution_count": 30,
   "metadata": {},
   "outputs": [],
   "source": [
    "df_c = pd.read_csv('concluidos.csv')"
   ]
  },
  {
   "cell_type": "code",
   "execution_count": 32,
   "metadata": {},
   "outputs": [],
   "source": [
    "new_df_c = df_c[~df_c['num_proc'].isin(procedimientos_with_error)]"
   ]
  },
  {
   "cell_type": "code",
   "execution_count": 34,
   "metadata": {},
   "outputs": [
    {
     "name": "stdout",
     "output_type": "stream",
     "text": [
      "Se eliminaron 603 registros con error de precios y 38 de concluidos\n"
     ]
    }
   ],
   "source": [
    "\n",
    "cant_eliminada = len(df) - len(new_df)\n",
    "cant_eliminada_conc = len(df_c) - len(new_df_c)\n",
    "print(f\"Se eliminaron {cant_eliminada} registros con error de precios y {cant_eliminada_conc} de concluidos\")"
   ]
  },
  {
   "cell_type": "code",
   "execution_count": null,
   "metadata": {},
   "outputs": [],
   "source": [
    "#T1\n",
    "Error::: Descripción detallada, Unidad de medida,Precio unitario sin impuestos,Monto de la Oferta,\n",
    "IVA,Otros impuestos,Monto total de la oferta\n",
    "#t2\n",
    "Error::: Descripción detallada, Unidad de medida,Cantidad mínima,Cantidad máxima,3\n",
    "Precio unitario sin impuestos,Monto total cantidad mínima,Monto total cantidad máxima\n",
    "\n",
    "\n",
    "#Original\n",
    "Descripción detallada, Unidad de medida, Cantidad solicitada, Precio unitario sin impuestos, Subtotal, IVA,Otros impuestos, Total"
   ]
  },
  {
   "cell_type": "code",
   "execution_count": null,
   "metadata": {},
   "outputs": [],
   "source": [
    "desc_det 0, prec_unit_sin_impuestos 3, subtotal 4, total 7"
   ]
  },
  {
   "cell_type": "code",
   "execution_count": null,
   "metadata": {},
   "outputs": [],
   "source": [
    "desc_det = 0\n",
    "prec_unit_sin_impuestos = 3\n",
    "subtotal = 4\n",
    "total = 7"
   ]
  },
  {
   "cell_type": "code",
   "execution_count": null,
   "metadata": {},
   "outputs": [],
   "source": [
    "df.shape"
   ]
  },
  {
   "cell_type": "code",
   "execution_count": null,
   "metadata": {},
   "outputs": [],
   "source": [
    "procedimientos_guardados = pd.read_csv('concluidos.csv', usecols = ['num_proc'])"
   ]
  },
  {
   "cell_type": "code",
   "execution_count": null,
   "metadata": {},
   "outputs": [],
   "source": [
    "if procedimientos_guardados['num_proc'].str.contains('').any():\n",
    "            print(\"ya está en la bdd\")"
   ]
  },
  {
   "cell_type": "code",
   "execution_count": null,
   "metadata": {},
   "outputs": [],
   "source": []
  },
  {
   "cell_type": "code",
   "execution_count": null,
   "metadata": {},
   "outputs": [],
   "source": [
    "df = pd.read_excel('./Claves de partida.xlsx', sheet_name='Hoja1', header=None)"
   ]
  },
  {
   "cell_type": "code",
   "execution_count": null,
   "metadata": {},
   "outputs": [],
   "source": [
    "claves = df[5].unique()"
   ]
  },
  {
   "cell_type": "code",
   "execution_count": null,
   "metadata": {},
   "outputs": [],
   "source": [
    "claves = ['15901', '26101', '26102', '26103', '15401', '21101', '37501', '37502', '37503', \n",
    "              '37504', '37601', '37602', '37701', '37801', '37802', '37901', '38101', '38102', \n",
    "              '38103', '38201', '38301', '38401', '38501', '44101', '44102', '44103', '44104', \n",
    "              '34101']"
   ]
  },
  {
   "cell_type": "code",
   "execution_count": null,
   "metadata": {},
   "outputs": [],
   "source": [
    "print(random.choice(claves))"
   ]
  },
  {
   "cell_type": "code",
   "execution_count": null,
   "metadata": {},
   "outputs": [],
   "source": [
    "from selenium import webdriver\n",
    "from selenium.webdriver.common.by import By\n",
    "from selenium.webdriver.common.action_chains import ActionChains\n",
    "from selenium.webdriver.chrome.service import Service\n",
    "from webdriver_manager.chrome import ChromeDriverManager\n",
    "from selenium.common.exceptions import TimeoutException, ElementClickInterceptedException\n",
    "from selenium.webdriver.support import expected_conditions as EC\n",
    "from selenium.webdriver.support.ui import WebDriverWait\n",
    "from datetime import date, datetime"
   ]
  },
  {
   "cell_type": "code",
   "execution_count": null,
   "metadata": {},
   "outputs": [],
   "source": [
    "#Se metio un error debido a la deshabilitación de cookies de 3ros en chrome.\n",
    "executable_path = ChromeDriverManager().install()\n",
    "executable_path = executable_path.replace(\"THIRD_PARTY_NOTICES.chromedriver\", \"chromedriver.exe\")\n",
    "\n",
    "#Dispara chrome\n",
    "driver = webdriver.Chrome(\n",
    "            service=Service(executable_path=executable_path),\n",
    "        )\n",
    "print(\"driver correctamente inicializado.\")"
   ]
  },
  {
   "cell_type": "code",
   "execution_count": null,
   "metadata": {},
   "outputs": [],
   "source": [
    "driver.get('https://upcp-compranet.hacienda.gob.mx/sitiopublico/#/sitiopublico/detalle/0a025e8c44364c3fb9fdb6032ee160d3/procedimiento')"
   ]
  },
  {
   "cell_type": "code",
   "execution_count": null,
   "metadata": {},
   "outputs": [],
   "source": [
    "xp = '//*[contains(text(),\"DATOS RELEVANTES DEL CONTRATO\")]/ancestor::ul/following-sibling::div//thead/tr/th'\n",
    "cabeceras = driver.find_elements(By.XPATH, xp )    "
   ]
  },
  {
   "cell_type": "code",
   "execution_count": null,
   "metadata": {},
   "outputs": [],
   "source": [
    "for cabecera in cabeceras:\n",
    "    print(cabecera.text)"
   ]
  },
  {
   "cell_type": "code",
   "execution_count": null,
   "metadata": {},
   "outputs": [],
   "source": [
    "if cabeceras[0].text == 'Descripción detallada' and cabeceras[3].text == 'Precio unitario sin impuestos' and\\\n",
    "cabeceras[4].text == 'Subtotal' and cabeceras[7].text == 'Total':\n",
    "    ind_desc = 0\n",
    "    ind_prec = 3\n",
    "    ind_subt = 4\n",
    "    ind_tota = 7\n",
    "elif cabeceras[0].text == 'Descripción detallada' and cabeceras[2].text == 'Precio unitario sin impuestos' and\\\n",
    "cabeceras[3].text == 'Monto de la Oferta' and cabeceras[6].text == 'Monto total de la oferta':\n",
    "    ind_desc = 0\n",
    "    ind_prec = 2\n",
    "    ind_subt = 3\n",
    "    ind_tota = 6\n",
    "elif cabeceras[0].text == 'Descripción detallada' and cabeceras[4].text == 'Precio unitario sin impuestos' and\\\n",
    "cabeceras[5].text == 'Monto total cantidad mínima' and cabeceras[6].text == 'Monto total de la oferta':\n",
    "    ind_desc = 0\n",
    "    ind_prec = 4\n",
    "    ind_cant_minima = 5\n",
    "    ind_tota = 6"
   ]
  },
  {
   "cell_type": "code",
   "execution_count": null,
   "metadata": {},
   "outputs": [],
   "source": [
    "if juan:\n",
    "    pass"
   ]
  },
  {
   "cell_type": "code",
   "execution_count": null,
   "metadata": {},
   "outputs": [],
   "source": [
    "xp = '//*[contains(text(),\"Código de contrato: \")]/parent::label/following-sibling::p-table//div[contains(@class,\"unfrozen\")]//thead/tr/th'\n",
    "cabeceras = driver.find_elements(By.XPATH, xp)"
   ]
  },
  {
   "cell_type": "code",
   "execution_count": null,
   "metadata": {},
   "outputs": [],
   "source": [
    "driver.quit()"
   ]
  },
  {
   "cell_type": "code",
   "execution_count": null,
   "metadata": {},
   "outputs": [],
   "source": []
  },
  {
   "cell_type": "code",
   "execution_count": null,
   "metadata": {},
   "outputs": [],
   "source": [
    "#Esto debido a que a veces economicos no cargaba, y aveces trae un layout distinto\n",
    "xp_1 = '//th[text()=\"Descripción CUCoP+\"]/ancestor::div[contains(@class,\"header\")]/following-sibling::div/table//tr'\n",
    "xp_2 = '//th[text()=\"Descripción CUCoP+\"]/ancestor::thead/following-sibling::tbody/tr'\n",
    "xp_economicos = xp_1\n",
    "economicos = driver.find_elements(By.XPATH, xp_1)\n",
    "iterations = 0\n",
    "if len(economicos)<1:\n",
    "    print('  No cargaron economicos, se esperará')\n",
    "    while True:\n",
    "        economicos = driver.find_elements(By.XPATH, xp_2)\n",
    "        if len(economicos)>0:\n",
    "            xp_economicos = xp_2\n",
    "            print(f\"   economicos tipo 2\")\n",
    "            break\n",
    "\n",
    "        economicos = driver.find_elements(By.XPATH, xp_1)\n",
    "        if len(economicos)>0:\n",
    "            xp_economicos = xp_1\n",
    "            break\n",
    "        \n",
    "        iterations += 1\n",
    "        if iterations>10:\n",
    "            print('   No cargaron.')\n",
    "            break"
   ]
  },
  {
   "cell_type": "code",
   "execution_count": null,
   "metadata": {},
   "outputs": [],
   "source": [
    "economicos_list = []\n",
    "economic_ids = []\n",
    "#Itera páginas\n",
    "for i in range(1, 11):\n",
    "    print(f\"  Obteniendo economicos pag: {i}\")\n",
    "    economicos = driver.find_elements(By.XPATH, xp_economicos)\n",
    "    numero = economicos[0].text.split(\" \",1)[0]\n",
    "    #Itera filas de economicos\n",
    "    for row_economic in economicos:\n",
    "        col = row_economic.find_elements(By.XPATH,\"./td\")\n",
    "        _id = col[0].text\n",
    "        if _id in economic_ids:\n",
    "            print(f\"economico {_id} está repetido por alguna extraña razón\")\n",
    "        partida_esp = col[1].text\n",
    "        clave_cucop = col[2].text\n",
    "        desc_cucop = col[3].text\n",
    "        desc_det = col[4].text\n",
    "        unidades_medida = col[5].text\n",
    "        #Esta columna algunas pocas veces no viene\n",
    "        cantidad_solicitada = col[6].text if len(col)>6 else \"\"\n",
    "        #Busca un patron de 3 o 4 digitos, punto, 3 o 4 digitos, punto,3 o 4 digitos, y desues otros 2 digitos opcionales\n",
    "        claves_compendio = re.findall(r\"\\d{3,4}.{1}\\d{3,4}.{1}\\d{3,4}.?\\d{0,2}\", desc_cucop)#CUCOP\n",
    "        clave_compendio = claves_compendio[0].strip().replace(\" \",\".\") if len(claves_compendio)>0 else \"\"\n",
    "\n",
    "        economicos_list.append({\n",
    "            \"Clave compendio\":clave_compendio, \"Codigo del expediente\":'cod_exp', \"Número del procedimiento o contratación\":'num_proc',\n",
    "            \"Partida específica\":partida_esp, \"Clave CUCoP+\":clave_cucop, \"Descripción CUCoP+\": desc_cucop, \n",
    "            \"Descripción detallada\":desc_det, \"Unidad de medida\":unidades_medida, \"Cantidad solicitada\":cantidad_solicitada,\n",
    "            \"uri\":'uri', \"scrapped_day\":'today'\n",
    "        })\n",
    "        economic_ids.append(_id)\n",
    "\n",
    "    next_page_btn = driver.find_element(By.XPATH,'//span[text()=\"ECONÓMICOS\"]/ancestor::p-tabview//button[contains(@class,\"p-paginator-next\")]')\n",
    "    if \"p-disabled\" in next_page_btn.get_attribute(\"class\"):\n",
    "        print(\"  no hay más páginas disponibles\")\n",
    "        break\n",
    "\n",
    "    for i in range(0, 10):\n",
    "        #Revisa si hay más paginas disponibles\n",
    "        next_page_btn = driver.find_element(By.XPATH,'//span[text()=\"ECONÓMICOS\"]/ancestor::p-tabview//button[contains(@class,\"p-paginator-next\")]')\n",
    "        if \"p-disabled\" in next_page_btn.get_attribute(\"class\"):\n",
    "            print(\"  no hay más páginas disponibles\")\n",
    "            break\n",
    "\n",
    "        #Da click en next page\n",
    "        ActionChains(driver).scroll_to_element(next_page_btn)\\\n",
    "            .pause(1).click(next_page_btn).perform()\n",
    "        \n",
    "        time.sleep(5)\n",
    "\n",
    "        #Espera nuevos economicos por un máximo de 60 segundos \n",
    "        t_end = time.time() + 60\n",
    "        numero_nuevo = driver.find_elements(By.XPATH, xp_economicos)[0].text.split(\" \",1)[0]\n",
    "        while time.time() < t_end and numero == numero_nuevo:\n",
    "            try:\n",
    "                numero_nuevo = driver.find_elements(By.XPATH, xp_economicos)[0].text.split(\" \",1)[0]\n",
    "            except:\n",
    "                pass\n",
    "        \n",
    "        #Sí aparecieron nuevos economicos los recolecta...\n",
    "        if int(numero_nuevo) > int(numero):\n",
    "            break\n",
    "        else:# sí no aparecieron nuevos economicos en un minuto busca la siguiente página.\n",
    "            print(\"  no aparecieron nuevos economicos en un minuto\")\n",
    "            "
   ]
  },
  {
   "cell_type": "code",
   "execution_count": null,
   "metadata": {},
   "outputs": [],
   "source": [
    "from colorama import Fore"
   ]
  },
  {
   "cell_type": "code",
   "execution_count": null,
   "metadata": {},
   "outputs": [],
   "source": [
    "print(Fore.RED+ 'i'+Fore.RESET)\n",
    "print('i')\n",
    "print('i')\n",
    "print('i')\n",
    "print('i')\n",
    "print(Fore.YELLOW+ 'i')\n",
    "print('i')\n",
    "print('i')"
   ]
  },
  {
   "cell_type": "code",
   "execution_count": null,
   "metadata": {},
   "outputs": [],
   "source": [
    "for i in range (0, 15):\n",
    "    if i>10:\n",
    "        print(Fore.RESET, i)\n",
    "    else:\n",
    "        print(Fore.RED, i)"
   ]
  },
  {
   "cell_type": "code",
   "execution_count": null,
   "metadata": {},
   "outputs": [],
   "source": [
    "len(economicos_list)"
   ]
  },
  {
   "cell_type": "code",
   "execution_count": null,
   "metadata": {},
   "outputs": [],
   "source": [
    "driver.quit()"
   ]
  }
 ],
 "metadata": {
  "kernelspec": {
   "display_name": "venv",
   "language": "python",
   "name": "python3"
  },
  "language_info": {
   "codemirror_mode": {
    "name": "ipython",
    "version": 3
   },
   "file_extension": ".py",
   "mimetype": "text/x-python",
   "name": "python",
   "nbconvert_exporter": "python",
   "pygments_lexer": "ipython3",
   "version": "3.12.3"
  }
 },
 "nbformat": 4,
 "nbformat_minor": 2
}
