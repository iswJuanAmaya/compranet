{
 "cells": [
  {
   "cell_type": "code",
   "execution_count": 1,
   "metadata": {},
   "outputs": [],
   "source": [
    "import pandas as pd"
   ]
  },
  {
   "cell_type": "code",
   "execution_count": 26,
   "metadata": {},
   "outputs": [],
   "source": [
    "import random\n",
    "import re\n",
    "import time"
   ]
  },
  {
   "cell_type": "code",
   "execution_count": 2,
   "metadata": {},
   "outputs": [],
   "source": [
    "df =  pd.read_csv('precios.csv')"
   ]
  },
  {
   "cell_type": "code",
   "execution_count": 9,
   "metadata": {},
   "outputs": [
    {
     "data": {
      "text/plain": [
       "Dependencia\n",
       "Error::: Descripción detallada,Unidad de medida,Cantidad mínima,Cantidad máxima,Precio unitario sin impuestos,Monto total cantidad mínima,Monto total cantidad máxima    296\n",
       "Error::: Descripción detallada,Unidad de medida,Cantidad mínima,Cantidad máxima,Precio unitario sin impuestos,Monto total cantidad mínima,                               209\n",
       "Error::: Descripción detallada,Unidad de medida,Precio unitario sin impuestos,Monto de la Oferta,IVA,Otros impuestos,Monto total de la oferta                            180\n",
       "Error::: Descripción detallada,Unidad de medida,Precio unitario sin impuestos,Monto de la Oferta,IVA,,                                                                   100\n",
       "Error::: Descripción detallada,Unidad de medida,Cantidad mínima,Cantidad máxima,,,                                                                                        30\n",
       "Name: count, dtype: int64"
      ]
     },
     "execution_count": 9,
     "metadata": {},
     "output_type": "execute_result"
    }
   ],
   "source": [
    "df['Dependencia'][df['Dependencia'].str.startswith(\"Error\")].value_counts()"
   ]
  },
  {
   "cell_type": "code",
   "execution_count": 7,
   "metadata": {},
   "outputs": [
    {
     "data": {
      "text/plain": [
       "(5692,)"
      ]
     },
     "execution_count": 7,
     "metadata": {},
     "output_type": "execute_result"
    }
   ],
   "source": [
    "df['Dependencia'].shape"
   ]
  },
  {
   "cell_type": "code",
   "execution_count": null,
   "metadata": {},
   "outputs": [],
   "source": []
  },
  {
   "cell_type": "code",
   "execution_count": null,
   "metadata": {},
   "outputs": [],
   "source": []
  },
  {
   "cell_type": "code",
   "execution_count": 5,
   "metadata": {},
   "outputs": [],
   "source": [
    "procedimientos_guardados = pd.read_csv('concluidos.csv', usecols = ['num_proc'])"
   ]
  },
  {
   "cell_type": "code",
   "execution_count": 7,
   "metadata": {},
   "outputs": [
    {
     "name": "stdout",
     "output_type": "stream",
     "text": [
      "ya está en la bdd\n"
     ]
    }
   ],
   "source": [
    "if procedimientos_guardados['num_proc'].str.contains('').any():\n",
    "            print(\"ya está en la bdd\")"
   ]
  },
  {
   "cell_type": "code",
   "execution_count": null,
   "metadata": {},
   "outputs": [],
   "source": []
  },
  {
   "cell_type": "code",
   "execution_count": 7,
   "metadata": {},
   "outputs": [],
   "source": [
    "df = pd.read_excel('./Claves de partida.xlsx', sheet_name='Hoja1', header=None)"
   ]
  },
  {
   "cell_type": "code",
   "execution_count": 13,
   "metadata": {},
   "outputs": [],
   "source": [
    "claves = df[5].unique()"
   ]
  },
  {
   "cell_type": "code",
   "execution_count": 18,
   "metadata": {},
   "outputs": [],
   "source": [
    "claves = ['15901', '26101', '26102', '26103', '15401', '21101', '37501', '37502', '37503', \n",
    "              '37504', '37601', '37602', '37701', '37801', '37802', '37901', '38101', '38102', \n",
    "              '38103', '38201', '38301', '38401', '38501', '44101', '44102', '44103', '44104', \n",
    "              '34101']"
   ]
  },
  {
   "cell_type": "code",
   "execution_count": 20,
   "metadata": {},
   "outputs": [
    {
     "name": "stdout",
     "output_type": "stream",
     "text": [
      "37801\n"
     ]
    }
   ],
   "source": [
    "print(random.choice(claves))"
   ]
  },
  {
   "cell_type": "code",
   "execution_count": 21,
   "metadata": {},
   "outputs": [],
   "source": [
    "from selenium import webdriver\n",
    "from selenium.webdriver.common.by import By\n",
    "from selenium.webdriver.common.action_chains import ActionChains\n",
    "from selenium.webdriver.chrome.service import Service\n",
    "from webdriver_manager.chrome import ChromeDriverManager\n",
    "from selenium.common.exceptions import TimeoutException, ElementClickInterceptedException\n",
    "from selenium.webdriver.support import expected_conditions as EC\n",
    "from selenium.webdriver.support.ui import WebDriverWait\n",
    "from datetime import date, datetime"
   ]
  },
  {
   "cell_type": "code",
   "execution_count": 22,
   "metadata": {},
   "outputs": [
    {
     "name": "stdout",
     "output_type": "stream",
     "text": [
      "driver correctamente inicializado.\n"
     ]
    }
   ],
   "source": [
    "#Se metio un error debido a la deshabilitación de cookies de 3ros en chrome.\n",
    "executable_path = ChromeDriverManager().install()\n",
    "executable_path = executable_path.replace(\"THIRD_PARTY_NOTICES.chromedriver\", \"chromedriver.exe\")\n",
    "\n",
    "#Dispara chrome\n",
    "driver = webdriver.Chrome(\n",
    "            service=Service(executable_path=executable_path),\n",
    "        )\n",
    "print(\"driver correctamente inicializado.\")"
   ]
  },
  {
   "cell_type": "code",
   "execution_count": 23,
   "metadata": {},
   "outputs": [],
   "source": [
    "driver.get('https://upcp-compranet.hacienda.gob.mx/sitiopublico/#/sitiopublico/detalle/b005f29806134df89466ca3c04d8a392/proyecto')"
   ]
  },
  {
   "cell_type": "code",
   "execution_count": 24,
   "metadata": {},
   "outputs": [],
   "source": [
    "#Esto debido a que a veces economicos no cargaba, y aveces trae un layout distinto\n",
    "xp_1 = '//th[text()=\"Descripción CUCoP+\"]/ancestor::div[contains(@class,\"header\")]/following-sibling::div/table//tr'\n",
    "xp_2 = '//th[text()=\"Descripción CUCoP+\"]/ancestor::thead/following-sibling::tbody/tr'\n",
    "xp_economicos = xp_1\n",
    "economicos = driver.find_elements(By.XPATH, xp_1)\n",
    "iterations = 0\n",
    "if len(economicos)<1:\n",
    "    print('  No cargaron economicos, se esperará')\n",
    "    while True:\n",
    "        economicos = driver.find_elements(By.XPATH, xp_2)\n",
    "        if len(economicos)>0:\n",
    "            xp_economicos = xp_2\n",
    "            print(f\"   economicos tipo 2\")\n",
    "            break\n",
    "\n",
    "        economicos = driver.find_elements(By.XPATH, xp_1)\n",
    "        if len(economicos)>0:\n",
    "            xp_economicos = xp_1\n",
    "            break\n",
    "        \n",
    "        iterations += 1\n",
    "        if iterations>10:\n",
    "            print('   No cargaron.')\n",
    "            break"
   ]
  },
  {
   "cell_type": "code",
   "execution_count": 59,
   "metadata": {},
   "outputs": [
    {
     "name": "stdout",
     "output_type": "stream",
     "text": [
      "  Obteniendo economicos pag: 1\n",
      "  Obteniendo economicos pag: 2\n",
      "  Obteniendo economicos pag: 3\n",
      "  Obteniendo economicos pag: 4\n",
      "  Obteniendo economicos pag: 5\n",
      "  Obteniendo economicos pag: 6\n",
      "  Obteniendo economicos pag: 7\n",
      "  Obteniendo economicos pag: 8\n",
      "  no hay más páginas disponibles\n"
     ]
    }
   ],
   "source": [
    "economicos_list = []\n",
    "economic_ids = []\n",
    "#Itera páginas\n",
    "for i in range(1, 11):\n",
    "    print(f\"  Obteniendo economicos pag: {i}\")\n",
    "    economicos = driver.find_elements(By.XPATH, xp_economicos)\n",
    "    numero = economicos[0].text.split(\" \",1)[0]\n",
    "    #Itera filas de economicos\n",
    "    for row_economic in economicos:\n",
    "        col = row_economic.find_elements(By.XPATH,\"./td\")\n",
    "        _id = col[0].text\n",
    "        if _id in economic_ids:\n",
    "            print(f\"economico {_id} está repetido por alguna extraña razón\")\n",
    "        partida_esp = col[1].text\n",
    "        clave_cucop = col[2].text\n",
    "        desc_cucop = col[3].text\n",
    "        desc_det = col[4].text\n",
    "        unidades_medida = col[5].text\n",
    "        #Esta columna algunas pocas veces no viene\n",
    "        cantidad_solicitada = col[6].text if len(col)>6 else \"\"\n",
    "        #Busca un patron de 3 o 4 digitos, punto, 3 o 4 digitos, punto,3 o 4 digitos, y desues otros 2 digitos opcionales\n",
    "        claves_compendio = re.findall(r\"\\d{3,4}.{1}\\d{3,4}.{1}\\d{3,4}.?\\d{0,2}\", desc_cucop)#CUCOP\n",
    "        clave_compendio = claves_compendio[0].strip().replace(\" \",\".\") if len(claves_compendio)>0 else \"\"\n",
    "\n",
    "        economicos_list.append({\n",
    "            \"Clave compendio\":clave_compendio, \"Codigo del expediente\":'cod_exp', \"Número del procedimiento o contratación\":'num_proc',\n",
    "            \"Partida específica\":partida_esp, \"Clave CUCoP+\":clave_cucop, \"Descripción CUCoP+\": desc_cucop, \n",
    "            \"Descripción detallada\":desc_det, \"Unidad de medida\":unidades_medida, \"Cantidad solicitada\":cantidad_solicitada,\n",
    "            \"uri\":'uri', \"scrapped_day\":'today'\n",
    "        })\n",
    "        economic_ids.append(_id)\n",
    "\n",
    "    next_page_btn = driver.find_element(By.XPATH,'//span[text()=\"ECONÓMICOS\"]/ancestor::p-tabview//button[contains(@class,\"p-paginator-next\")]')\n",
    "    if \"p-disabled\" in next_page_btn.get_attribute(\"class\"):\n",
    "        print(\"  no hay más páginas disponibles\")\n",
    "        break\n",
    "\n",
    "    for i in range(0, 10):\n",
    "        #Revisa si hay más paginas disponibles\n",
    "        next_page_btn = driver.find_element(By.XPATH,'//span[text()=\"ECONÓMICOS\"]/ancestor::p-tabview//button[contains(@class,\"p-paginator-next\")]')\n",
    "        if \"p-disabled\" in next_page_btn.get_attribute(\"class\"):\n",
    "            print(\"  no hay más páginas disponibles\")\n",
    "            break\n",
    "\n",
    "        #Da click en next page\n",
    "        ActionChains(driver).scroll_to_element(next_page_btn)\\\n",
    "            .pause(1).click(next_page_btn).perform()\n",
    "        \n",
    "        time.sleep(5)\n",
    "\n",
    "        #Espera nuevos economicos por un máximo de 60 segundos \n",
    "        t_end = time.time() + 60\n",
    "        numero_nuevo = driver.find_elements(By.XPATH, xp_economicos)[0].text.split(\" \",1)[0]\n",
    "        while time.time() < t_end and numero == numero_nuevo:\n",
    "            try:\n",
    "                numero_nuevo = driver.find_elements(By.XPATH, xp_economicos)[0].text.split(\" \",1)[0]\n",
    "            except:\n",
    "                pass\n",
    "        \n",
    "        #Sí aparecieron nuevos economicos los recolecta...\n",
    "        if int(numero_nuevo) > int(numero):\n",
    "            break\n",
    "        else:# sí no aparecieron nuevos economicos en un minuto busca la siguiente página.\n",
    "            print(\"  no aparecieron nuevos economicos en un minuto\")\n",
    "            "
   ]
  },
  {
   "cell_type": "code",
   "execution_count": 60,
   "metadata": {},
   "outputs": [],
   "source": [
    "from colorama import Fore"
   ]
  },
  {
   "cell_type": "code",
   "execution_count": 71,
   "metadata": {},
   "outputs": [
    {
     "name": "stdout",
     "output_type": "stream",
     "text": [
      "\u001b[31mi\u001b[39m\n",
      "i\n",
      "i\n",
      "i\n",
      "i\n",
      "\u001b[33mi\n",
      "i\n",
      "i\n"
     ]
    }
   ],
   "source": [
    "print(Fore.RED+ 'i'+Fore.RESET)\n",
    "print('i')\n",
    "print('i')\n",
    "print('i')\n",
    "print('i')\n",
    "print(Fore.YELLOW+ 'i')\n",
    "print('i')\n",
    "print('i')"
   ]
  },
  {
   "cell_type": "code",
   "execution_count": 65,
   "metadata": {},
   "outputs": [
    {
     "name": "stdout",
     "output_type": "stream",
     "text": [
      "\u001b[31m 0\n",
      "\u001b[31m 1\n",
      "\u001b[31m 2\n",
      "\u001b[31m 3\n",
      "\u001b[31m 4\n",
      "\u001b[31m 5\n",
      "\u001b[31m 6\n",
      "\u001b[31m 7\n",
      "\u001b[31m 8\n",
      "\u001b[31m 9\n",
      "\u001b[31m 10\n",
      "\u001b[39m 11\n",
      "\u001b[39m 12\n",
      "\u001b[39m 13\n",
      "\u001b[39m 14\n"
     ]
    }
   ],
   "source": [
    "for i in range (0, 15):\n",
    "    if i>10:\n",
    "        print(Fore.RESET, i)\n",
    "    else:\n",
    "        print(Fore.RED, i)"
   ]
  },
  {
   "cell_type": "code",
   "execution_count": 61,
   "metadata": {},
   "outputs": [
    {
     "data": {
      "text/plain": [
       "394"
      ]
     },
     "execution_count": 61,
     "metadata": {},
     "output_type": "execute_result"
    }
   ],
   "source": [
    "len(economicos_list)"
   ]
  },
  {
   "cell_type": "code",
   "execution_count": 72,
   "metadata": {},
   "outputs": [],
   "source": [
    "driver.quit()"
   ]
  }
 ],
 "metadata": {
  "kernelspec": {
   "display_name": "venv",
   "language": "python",
   "name": "python3"
  },
  "language_info": {
   "codemirror_mode": {
    "name": "ipython",
    "version": 3
   },
   "file_extension": ".py",
   "mimetype": "text/x-python",
   "name": "python",
   "nbconvert_exporter": "python",
   "pygments_lexer": "ipython3",
   "version": "3.12.3"
  }
 },
 "nbformat": 4,
 "nbformat_minor": 2
}
